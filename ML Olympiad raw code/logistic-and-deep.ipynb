{
 "cells": [
  {
   "cell_type": "code",
   "execution_count": 1,
   "id": "2f46071f",
   "metadata": {
    "execution": {
     "iopub.execute_input": "2024-03-15T03:37:37.003476Z",
     "iopub.status.busy": "2024-03-15T03:37:37.002769Z",
     "iopub.status.idle": "2024-03-15T03:37:39.751211Z",
     "shell.execute_reply": "2024-03-15T03:37:39.749798Z"
    },
    "papermill": {
     "duration": 2.757943,
     "end_time": "2024-03-15T03:37:39.753962",
     "exception": false,
     "start_time": "2024-03-15T03:37:36.996019",
     "status": "completed"
    },
    "tags": []
   },
   "outputs": [],
   "source": [
    "import pandas as pd\n",
    "from statsmodels.tsa.arima.model import ARIMA\n",
    "Train=pd.read_csv('/kaggle/input/ml-olympiad-co2-emissions-prediction-challenge/train.csv')\n",
    "Test= pd.read_csv('/kaggle/input/ml-olympiad-co2-emissions-prediction-challenge/test.csv')\n",
    "sample_submission= pd.read_csv('/kaggle/input/ml-olympiad-co2-emissions-prediction-challenge/sample_submission.csv')"
   ]
  },
  {
   "cell_type": "code",
   "execution_count": 2,
   "id": "00029b91",
   "metadata": {
    "execution": {
     "iopub.execute_input": "2024-03-15T03:37:39.762182Z",
     "iopub.status.busy": "2024-03-15T03:37:39.761722Z",
     "iopub.status.idle": "2024-03-15T03:37:39.779219Z",
     "shell.execute_reply": "2024-03-15T03:37:39.778164Z"
    },
    "papermill": {
     "duration": 0.024269,
     "end_time": "2024-03-15T03:37:39.781654",
     "exception": false,
     "start_time": "2024-03-15T03:37:39.757385",
     "status": "completed"
    },
    "tags": []
   },
   "outputs": [],
   "source": [
    "#replace \"..\"with .100\n",
    "Train=Train.replace('..', .100)  \n",
    "Test=Test.replace('..', 0.100) "
   ]
  },
  {
   "cell_type": "code",
   "execution_count": 3,
   "id": "b06b46e0",
   "metadata": {
    "execution": {
     "iopub.execute_input": "2024-03-15T03:37:39.789885Z",
     "iopub.status.busy": "2024-03-15T03:37:39.789465Z",
     "iopub.status.idle": "2024-03-15T03:37:39.801230Z",
     "shell.execute_reply": "2024-03-15T03:37:39.800349Z"
    },
    "papermill": {
     "duration": 0.018541,
     "end_time": "2024-03-15T03:37:39.803405",
     "exception": false,
     "start_time": "2024-03-15T03:37:39.784864",
     "status": "completed"
    },
    "tags": []
   },
   "outputs": [],
   "source": [
    "#Unique country for iteration\n",
    "unique = Train['Country Name'].unique()"
   ]
  },
  {
   "cell_type": "code",
   "execution_count": 4,
   "id": "6902d4fc",
   "metadata": {
    "execution": {
     "iopub.execute_input": "2024-03-15T03:37:39.811591Z",
     "iopub.status.busy": "2024-03-15T03:37:39.811174Z",
     "iopub.status.idle": "2024-03-15T03:37:54.819218Z",
     "shell.execute_reply": "2024-03-15T03:37:54.818155Z"
    },
    "papermill": {
     "duration": 15.016213,
     "end_time": "2024-03-15T03:37:54.822727",
     "exception": false,
     "start_time": "2024-03-15T03:37:39.806514",
     "status": "completed"
    },
    "tags": []
   },
   "outputs": [],
   "source": [
    "#trainig and inferencing with LogisticRegression and ARIMA\n",
    "import pandas as pd\n",
    "import warnings\n",
    "warnings.filterwarnings(\"ignore\")\n",
    "from statsmodels.tsa.arima.model import ARIMA\n",
    "from sklearn.linear_model import LogisticRegression\n",
    "import numpy as np\n",
    "from sklearn.svm import SVC\n",
    "from sklearn.metrics import accuracy_score, classification_report, confusion_matrix\n",
    "j=[]\n",
    "for i in unique:\n",
    "    transposed_df=0\n",
    "    fg = Train[Train['Country Name'] == i].reset_index(drop=True)\n",
    "    columns_to_drop = ['Country Code', 'Country Name','Indicator']\n",
    "    fg = fg.drop(columns_to_drop, axis=1)\n",
    "    transposed_df = fg.transpose()\n",
    "    #print(fg)\n",
    "    #print('done for now')\n",
    "    Xtrain = transposed_df[[0,1, 2,3,4,9,10]]\n",
    "    Xtrain\n",
    "    Ytrain=transposed_df[11]\n",
    "    Ytrain\n",
    "    logistic_regression = LogisticRegression()\n",
    "    try:\n",
    "        logistic_regression.fit(Xtrain,Ytrain)\n",
    "        fgt = Test[Test['Country Name'] == i].reset_index(drop=True)\n",
    "        columns_to_drop = [ 'Country Name','Indicator']\n",
    "        fgt = fgt.drop(columns_to_drop, axis=1)\n",
    "        transposed_df = fgt.transpose()\n",
    "        #print(transposed_df)\n",
    "  \n",
    "        Xtest = transposed_df[[0,1, 2,3,4,9,10]]\n",
    "        forecast = logistic_regression.predict(Xtest.astype(float))\n",
    "        \n",
    "        model = ARIMA(Ytrain.astype(float), order=(0,1,1))  # Adjust order as needed\n",
    "        model_fit = model.fit()\n",
    "\n",
    "    \n",
    "        forecast2 = model_fit.forecast(steps=16)\n",
    "        \n",
    "        row_index = sample_submission[sample_submission.eq(i).any(axis=1)].index[0]\n",
    "\n",
    "\n",
    "        new_values = [i, forecast[0], forecast[1],forecast[2], forecast[3], forecast[4],forecast2[31]]\n",
    "        sample_submission.loc[row_index] = new_values\n",
    "    except:\n",
    "        j.append(i)"
   ]
  },
  {
   "cell_type": "code",
   "execution_count": 5,
   "id": "f3e7caa7",
   "metadata": {
    "execution": {
     "iopub.execute_input": "2024-03-15T03:37:54.835071Z",
     "iopub.status.busy": "2024-03-15T03:37:54.834350Z",
     "iopub.status.idle": "2024-03-15T03:38:18.603207Z",
     "shell.execute_reply": "2024-03-15T03:38:18.602017Z"
    },
    "papermill": {
     "duration": 23.778504,
     "end_time": "2024-03-15T03:38:18.606437",
     "exception": false,
     "start_time": "2024-03-15T03:37:54.827933",
     "status": "completed"
    },
    "tags": []
   },
   "outputs": [
    {
     "name": "stderr",
     "output_type": "stream",
     "text": [
      "2024-03-15 03:37:56.998254: E external/local_xla/xla/stream_executor/cuda/cuda_dnn.cc:9261] Unable to register cuDNN factory: Attempting to register factory for plugin cuDNN when one has already been registered\n",
      "2024-03-15 03:37:56.998410: E external/local_xla/xla/stream_executor/cuda/cuda_fft.cc:607] Unable to register cuFFT factory: Attempting to register factory for plugin cuFFT when one has already been registered\n",
      "2024-03-15 03:37:57.162319: E external/local_xla/xla/stream_executor/cuda/cuda_blas.cc:1515] Unable to register cuBLAS factory: Attempting to register factory for plugin cuBLAS when one has already been registered\n"
     ]
    },
    {
     "name": "stdout",
     "output_type": "stream",
     "text": [
      "\u001b[1m1/1\u001b[0m \u001b[32m━━━━━━━━━━━━━━━━━━━━\u001b[0m\u001b[37m\u001b[0m \u001b[1m0s\u001b[0m 278ms/step\n",
      "\u001b[1m1/1\u001b[0m \u001b[32m━━━━━━━━━━━━━━━━━━━━\u001b[0m\u001b[37m\u001b[0m \u001b[1m0s\u001b[0m 166ms/step\n",
      "\u001b[1m1/1\u001b[0m \u001b[32m━━━━━━━━━━━━━━━━━━━━\u001b[0m\u001b[37m\u001b[0m \u001b[1m0s\u001b[0m 161ms/step\n",
      "\u001b[1m1/1\u001b[0m \u001b[32m━━━━━━━━━━━━━━━━━━━━\u001b[0m\u001b[37m\u001b[0m \u001b[1m0s\u001b[0m 167ms/step\n",
      "\u001b[1m1/1\u001b[0m \u001b[32m━━━━━━━━━━━━━━━━━━━━\u001b[0m\u001b[37m\u001b[0m \u001b[1m0s\u001b[0m 162ms/step\n",
      "\u001b[1m1/1\u001b[0m \u001b[32m━━━━━━━━━━━━━━━━━━━━\u001b[0m\u001b[37m\u001b[0m \u001b[1m0s\u001b[0m 165ms/step\n",
      "\u001b[1m1/1\u001b[0m \u001b[32m━━━━━━━━━━━━━━━━━━━━\u001b[0m\u001b[37m\u001b[0m \u001b[1m0s\u001b[0m 163ms/step\n",
      "\u001b[1m1/1\u001b[0m \u001b[32m━━━━━━━━━━━━━━━━━━━━\u001b[0m\u001b[37m\u001b[0m \u001b[1m0s\u001b[0m 168ms/step\n",
      "\u001b[1m1/1\u001b[0m \u001b[32m━━━━━━━━━━━━━━━━━━━━\u001b[0m\u001b[37m\u001b[0m \u001b[1m0s\u001b[0m 163ms/step\n",
      "\u001b[1m1/1\u001b[0m \u001b[32m━━━━━━━━━━━━━━━━━━━━\u001b[0m\u001b[37m\u001b[0m \u001b[1m0s\u001b[0m 161ms/step\n",
      "\u001b[1m1/1\u001b[0m \u001b[32m━━━━━━━━━━━━━━━━━━━━\u001b[0m\u001b[37m\u001b[0m \u001b[1m0s\u001b[0m 165ms/step\n",
      "\u001b[1m1/1\u001b[0m \u001b[32m━━━━━━━━━━━━━━━━━━━━\u001b[0m\u001b[37m\u001b[0m \u001b[1m0s\u001b[0m 164ms/step\n",
      "\u001b[1m1/1\u001b[0m \u001b[32m━━━━━━━━━━━━━━━━━━━━\u001b[0m\u001b[37m\u001b[0m \u001b[1m0s\u001b[0m 160ms/step\n",
      "\u001b[1m1/1\u001b[0m \u001b[32m━━━━━━━━━━━━━━━━━━━━\u001b[0m\u001b[37m\u001b[0m \u001b[1m0s\u001b[0m 161ms/step\n",
      "\u001b[1m1/1\u001b[0m \u001b[32m━━━━━━━━━━━━━━━━━━━━\u001b[0m\u001b[37m\u001b[0m \u001b[1m0s\u001b[0m 161ms/step\n",
      "\u001b[1m1/1\u001b[0m \u001b[32m━━━━━━━━━━━━━━━━━━━━\u001b[0m\u001b[37m\u001b[0m \u001b[1m0s\u001b[0m 161ms/step\n",
      "\u001b[1m1/1\u001b[0m \u001b[32m━━━━━━━━━━━━━━━━━━━━\u001b[0m\u001b[37m\u001b[0m \u001b[1m0s\u001b[0m 164ms/step\n",
      "\u001b[1m1/1\u001b[0m \u001b[32m━━━━━━━━━━━━━━━━━━━━\u001b[0m\u001b[37m\u001b[0m \u001b[1m0s\u001b[0m 160ms/step\n",
      "\u001b[1m1/1\u001b[0m \u001b[32m━━━━━━━━━━━━━━━━━━━━\u001b[0m\u001b[37m\u001b[0m \u001b[1m0s\u001b[0m 161ms/step\n",
      "\u001b[1m1/1\u001b[0m \u001b[32m━━━━━━━━━━━━━━━━━━━━\u001b[0m\u001b[37m\u001b[0m \u001b[1m0s\u001b[0m 163ms/step\n",
      "\u001b[1m1/1\u001b[0m \u001b[32m━━━━━━━━━━━━━━━━━━━━\u001b[0m\u001b[37m\u001b[0m \u001b[1m0s\u001b[0m 164ms/step\n",
      "\u001b[1m1/1\u001b[0m \u001b[32m━━━━━━━━━━━━━━━━━━━━\u001b[0m\u001b[37m\u001b[0m \u001b[1m0s\u001b[0m 162ms/step\n",
      "\u001b[1m1/1\u001b[0m \u001b[32m━━━━━━━━━━━━━━━━━━━━\u001b[0m\u001b[37m\u001b[0m \u001b[1m0s\u001b[0m 161ms/step\n",
      "\u001b[1m1/1\u001b[0m \u001b[32m━━━━━━━━━━━━━━━━━━━━\u001b[0m\u001b[37m\u001b[0m \u001b[1m0s\u001b[0m 162ms/step\n",
      "\u001b[1m1/1\u001b[0m \u001b[32m━━━━━━━━━━━━━━━━━━━━\u001b[0m\u001b[37m\u001b[0m \u001b[1m0s\u001b[0m 167ms/step\n",
      "\u001b[1m1/1\u001b[0m \u001b[32m━━━━━━━━━━━━━━━━━━━━\u001b[0m\u001b[37m\u001b[0m \u001b[1m0s\u001b[0m 172ms/step\n",
      "\u001b[1m1/1\u001b[0m \u001b[32m━━━━━━━━━━━━━━━━━━━━\u001b[0m\u001b[37m\u001b[0m \u001b[1m0s\u001b[0m 166ms/step\n"
     ]
    }
   ],
   "source": [
    "#trainig and inferencing with LogisticRegression and ARIMA\n",
    "import pandas as pd\n",
    "import warnings\n",
    "import tensorflow as tf\n",
    "warnings.filterwarnings(\"ignore\")\n",
    "from statsmodels.tsa.arima.model import ARIMA\n",
    "from sklearn.linear_model import LogisticRegression\n",
    "from sklearn.ensemble import BaggingRegressor\n",
    "from xgboost import XGBRegressor\n",
    "import numpy as np\n",
    "import pandas as pd\n",
    "from sklearn.preprocessing import MinMaxScaler\n",
    "from tensorflow.keras.models import Sequential\n",
    "from tensorflow.keras.layers import LSTM, Dense\n",
    "import numpy as np\n",
    "from sklearn.svm import SVC\n",
    "from sklearn.metrics import accuracy_score, classification_report, confusion_matrix\n",
    "\n",
    "\n",
    "for i in j:\n",
    "    \n",
    "    \n",
    "    fgt = Test[Test['Country Name'] == i].reset_index(drop=True)\n",
    "    columns_to_drop = [ 'Country Name','Indicator']\n",
    "    fgt = fgt.drop(columns_to_drop, axis=1)\n",
    "    transposed_df = fgt.transpose()\n",
    "    Xtest = transposed_df[[0,1, 2,3,4,9,10]]\n",
    "    transposed_df=0\n",
    "    fg = Train[Train['Country Name'] == i].reset_index(drop=True)\n",
    "    columns_to_drop = ['Country Code', 'Country Name','Indicator']\n",
    "    fg = fg.drop(columns_to_drop, axis=1)\n",
    "    transposed_df = fg.transpose()\n",
    "    #print(fg)\n",
    "    #print('done for now')\n",
    "    Xtrain = transposed_df[[0,1, 2,3,4,9,10]].astype(float)\n",
    "    xt=Xtrain.values\n",
    "    Ytrain=transposed_df[11].astype(float)\n",
    "    \n",
    "    \n",
    "    loaded_model = tf.keras.models.load_model(\"/kaggle/input/v4-001235/my_lstm_model (1).h5\")\n",
    "   \n",
    "    forecast = loaded_model.predict(Xtest.astype(float))\n",
    "    df = pd.DataFrame(forecast)\n",
    "    model2 = ARIMA(df[0], order=(0,1,1))  # Adjust order as needed\n",
    "    model_fit = model2.fit()\n",
    "\n",
    "    \n",
    "    forecast2 = model_fit.forecast(steps=16)\n",
    "        \n",
    "    row_index = sample_submission[sample_submission.eq(i).any(axis=1)].index[0]\n",
    "\n",
    "\n",
    "    new_values = [i, forecast[0][0], forecast[1][0],forecast[2][0], forecast[3][0], forecast[4][0],forecast2[14]]\n",
    "    sample_submission.loc[row_index] = new_values\n",
    "        "
   ]
  },
  {
   "cell_type": "code",
   "execution_count": 6,
   "id": "7754f380",
   "metadata": {
    "execution": {
     "iopub.execute_input": "2024-03-15T03:38:18.627791Z",
     "iopub.status.busy": "2024-03-15T03:38:18.627099Z",
     "iopub.status.idle": "2024-03-15T03:38:18.654179Z",
     "shell.execute_reply": "2024-03-15T03:38:18.653041Z"
    },
    "papermill": {
     "duration": 0.039245,
     "end_time": "2024-03-15T03:38:18.656923",
     "exception": false,
     "start_time": "2024-03-15T03:38:18.617678",
     "status": "completed"
    },
    "tags": []
   },
   "outputs": [
    {
     "data": {
      "text/html": [
       "<div>\n",
       "<style scoped>\n",
       "    .dataframe tbody tr th:only-of-type {\n",
       "        vertical-align: middle;\n",
       "    }\n",
       "\n",
       "    .dataframe tbody tr th {\n",
       "        vertical-align: top;\n",
       "    }\n",
       "\n",
       "    .dataframe thead th {\n",
       "        text-align: right;\n",
       "    }\n",
       "</style>\n",
       "<table border=\"1\" class=\"dataframe\">\n",
       "  <thead>\n",
       "    <tr style=\"text-align: right;\">\n",
       "      <th></th>\n",
       "      <th>Country Name</th>\n",
       "      <th>2016 [YR2016]</th>\n",
       "      <th>2017 [YR2017]</th>\n",
       "      <th>2018 [YR2018]</th>\n",
       "      <th>2019 [YR2019]</th>\n",
       "      <th>2020 [YR2020]</th>\n",
       "      <th>2030 [YR2030]</th>\n",
       "    </tr>\n",
       "  </thead>\n",
       "  <tbody>\n",
       "    <tr>\n",
       "      <th>0</th>\n",
       "      <td>Afghanistan</td>\n",
       "      <td>0.283692396</td>\n",
       "      <td>0.283692396</td>\n",
       "      <td>0.283692396</td>\n",
       "      <td>0.283692396</td>\n",
       "      <td>0.283692396</td>\n",
       "      <td>0.303039</td>\n",
       "    </tr>\n",
       "    <tr>\n",
       "      <th>1</th>\n",
       "      <td>Albania</td>\n",
       "      <td>1.492116704</td>\n",
       "      <td>1.795712442</td>\n",
       "      <td>1.795712442</td>\n",
       "      <td>1.795712442</td>\n",
       "      <td>1.795712442</td>\n",
       "      <td>1.643787</td>\n",
       "    </tr>\n",
       "    <tr>\n",
       "      <th>2</th>\n",
       "      <td>Algeria</td>\n",
       "      <td>3.951960939</td>\n",
       "      <td>3.951960939</td>\n",
       "      <td>3.951960939</td>\n",
       "      <td>3.951960939</td>\n",
       "      <td>2.85792657</td>\n",
       "      <td>3.973200</td>\n",
       "    </tr>\n",
       "    <tr>\n",
       "      <th>3</th>\n",
       "      <td>American Samoa</td>\n",
       "      <td>2.778827</td>\n",
       "      <td>2.779807</td>\n",
       "      <td>2.78075</td>\n",
       "      <td>2.781795</td>\n",
       "      <td>2.782635</td>\n",
       "      <td>2.782635</td>\n",
       "    </tr>\n",
       "    <tr>\n",
       "      <th>4</th>\n",
       "      <td>Andorra</td>\n",
       "      <td>6.485769241</td>\n",
       "      <td>6.485769241</td>\n",
       "      <td>6.674233189</td>\n",
       "      <td>6.805400082</td>\n",
       "      <td>6.485769241</td>\n",
       "      <td>6.493900</td>\n",
       "    </tr>\n",
       "    <tr>\n",
       "      <th>...</th>\n",
       "      <td>...</td>\n",
       "      <td>...</td>\n",
       "      <td>...</td>\n",
       "      <td>...</td>\n",
       "      <td>...</td>\n",
       "      <td>...</td>\n",
       "      <td>...</td>\n",
       "    </tr>\n",
       "    <tr>\n",
       "      <th>261</th>\n",
       "      <td>Sub-Saharan Africa</td>\n",
       "      <td>0.76398389</td>\n",
       "      <td>0.76398389</td>\n",
       "      <td>0.76398389</td>\n",
       "      <td>0.76398389</td>\n",
       "      <td>0.76398389</td>\n",
       "      <td>0.781360</td>\n",
       "    </tr>\n",
       "    <tr>\n",
       "      <th>262</th>\n",
       "      <td>Sub-Saharan Africa (excluding high income)</td>\n",
       "      <td>0.763559116</td>\n",
       "      <td>0.763559116</td>\n",
       "      <td>0.763559116</td>\n",
       "      <td>0.763559116</td>\n",
       "      <td>0.763559116</td>\n",
       "      <td>0.780891</td>\n",
       "    </tr>\n",
       "    <tr>\n",
       "      <th>263</th>\n",
       "      <td>Sub-Saharan Africa (IDA &amp; IBRD countries)</td>\n",
       "      <td>0.76398389</td>\n",
       "      <td>0.76398389</td>\n",
       "      <td>0.76398389</td>\n",
       "      <td>0.76398389</td>\n",
       "      <td>0.76398389</td>\n",
       "      <td>0.781360</td>\n",
       "    </tr>\n",
       "    <tr>\n",
       "      <th>264</th>\n",
       "      <td>Upper middle income</td>\n",
       "      <td>5.735859454</td>\n",
       "      <td>5.857718499</td>\n",
       "      <td>5.857718499</td>\n",
       "      <td>5.857718499</td>\n",
       "      <td>5.857718499</td>\n",
       "      <td>5.749273</td>\n",
       "    </tr>\n",
       "    <tr>\n",
       "      <th>265</th>\n",
       "      <td>World</td>\n",
       "      <td>4.601683731</td>\n",
       "      <td>4.682408225</td>\n",
       "      <td>4.682408225</td>\n",
       "      <td>4.682408225</td>\n",
       "      <td>4.682408225</td>\n",
       "      <td>4.574577</td>\n",
       "    </tr>\n",
       "  </tbody>\n",
       "</table>\n",
       "<p>266 rows × 7 columns</p>\n",
       "</div>"
      ],
      "text/plain": [
       "                                   Country Name 2016 [YR2016] 2017 [YR2017]  \\\n",
       "0                                   Afghanistan   0.283692396   0.283692396   \n",
       "1                                       Albania   1.492116704   1.795712442   \n",
       "2                                       Algeria   3.951960939   3.951960939   \n",
       "3                                American Samoa      2.778827      2.779807   \n",
       "4                                       Andorra   6.485769241   6.485769241   \n",
       "..                                          ...           ...           ...   \n",
       "261                          Sub-Saharan Africa    0.76398389    0.76398389   \n",
       "262  Sub-Saharan Africa (excluding high income)   0.763559116   0.763559116   \n",
       "263   Sub-Saharan Africa (IDA & IBRD countries)    0.76398389    0.76398389   \n",
       "264                         Upper middle income   5.735859454   5.857718499   \n",
       "265                                       World   4.601683731   4.682408225   \n",
       "\n",
       "    2018 [YR2018] 2019 [YR2019] 2020 [YR2020]  2030 [YR2030]  \n",
       "0     0.283692396   0.283692396   0.283692396       0.303039  \n",
       "1     1.795712442   1.795712442   1.795712442       1.643787  \n",
       "2     3.951960939   3.951960939    2.85792657       3.973200  \n",
       "3         2.78075      2.781795      2.782635       2.782635  \n",
       "4     6.674233189   6.805400082   6.485769241       6.493900  \n",
       "..            ...           ...           ...            ...  \n",
       "261    0.76398389    0.76398389    0.76398389       0.781360  \n",
       "262   0.763559116   0.763559116   0.763559116       0.780891  \n",
       "263    0.76398389    0.76398389    0.76398389       0.781360  \n",
       "264   5.857718499   5.857718499   5.857718499       5.749273  \n",
       "265   4.682408225   4.682408225   4.682408225       4.574577  \n",
       "\n",
       "[266 rows x 7 columns]"
      ]
     },
     "execution_count": 6,
     "metadata": {},
     "output_type": "execute_result"
    }
   ],
   "source": [
    "sample_submission"
   ]
  },
  {
   "cell_type": "code",
   "execution_count": 7,
   "id": "09b83fe4",
   "metadata": {
    "execution": {
     "iopub.execute_input": "2024-03-15T03:38:18.672466Z",
     "iopub.status.busy": "2024-03-15T03:38:18.672070Z",
     "iopub.status.idle": "2024-03-15T03:38:18.682264Z",
     "shell.execute_reply": "2024-03-15T03:38:18.681440Z"
    },
    "papermill": {
     "duration": 0.020715,
     "end_time": "2024-03-15T03:38:18.684535",
     "exception": false,
     "start_time": "2024-03-15T03:38:18.663820",
     "status": "completed"
    },
    "tags": []
   },
   "outputs": [],
   "source": [
    "sample_submission.to_csv('submission.csv', index=False)"
   ]
  },
  {
   "cell_type": "code",
   "execution_count": null,
   "id": "b7cfd9be",
   "metadata": {
    "papermill": {
     "duration": 0.006667,
     "end_time": "2024-03-15T03:38:18.698156",
     "exception": false,
     "start_time": "2024-03-15T03:38:18.691489",
     "status": "completed"
    },
    "tags": []
   },
   "outputs": [],
   "source": []
  }
 ],
 "metadata": {
  "kaggle": {
   "accelerator": "none",
   "dataSources": [
    {
     "databundleVersionId": 7794824,
     "sourceId": 70983,
     "sourceType": "competition"
    },
    {
     "datasetId": 4601390,
     "sourceId": 7847321,
     "sourceType": "datasetVersion"
    },
    {
     "datasetId": 4601745,
     "sourceId": 7847802,
     "sourceType": "datasetVersion"
    },
    {
     "datasetId": 4601835,
     "sourceId": 7847935,
     "sourceType": "datasetVersion"
    }
   ],
   "dockerImageVersionId": 30664,
   "isGpuEnabled": false,
   "isInternetEnabled": true,
   "language": "python",
   "sourceType": "notebook"
  },
  "kernelspec": {
   "display_name": "Python 3",
   "language": "python",
   "name": "python3"
  },
  "language_info": {
   "codemirror_mode": {
    "name": "ipython",
    "version": 3
   },
   "file_extension": ".py",
   "mimetype": "text/x-python",
   "name": "python",
   "nbconvert_exporter": "python",
   "pygments_lexer": "ipython3",
   "version": "3.10.13"
  },
  "papermill": {
   "default_parameters": {},
   "duration": 47.09639,
   "end_time": "2024-03-15T03:38:21.231294",
   "environment_variables": {},
   "exception": null,
   "input_path": "__notebook__.ipynb",
   "output_path": "__notebook__.ipynb",
   "parameters": {},
   "start_time": "2024-03-15T03:37:34.134904",
   "version": "2.5.0"
  }
 },
 "nbformat": 4,
 "nbformat_minor": 5
}
