{
 "cells": [
  {
   "cell_type": "code",
   "execution_count": 1,
   "id": "4204cc3a",
   "metadata": {
    "execution": {
     "iopub.execute_input": "2024-03-11T15:43:22.322035Z",
     "iopub.status.busy": "2024-03-11T15:43:22.321221Z",
     "iopub.status.idle": "2024-03-11T15:43:24.873834Z",
     "shell.execute_reply": "2024-03-11T15:43:24.872699Z"
    },
    "papermill": {
     "duration": 2.560857,
     "end_time": "2024-03-11T15:43:24.876534",
     "exception": false,
     "start_time": "2024-03-11T15:43:22.315677",
     "status": "completed"
    },
    "tags": []
   },
   "outputs": [],
   "source": [
    "import pandas as pd\n",
    "from statsmodels.tsa.arima.model import ARIMA\n",
    "Train=pd.read_csv('/kaggle/input/ml-olympiad-co2-emissions-prediction-challenge/train.csv')\n",
    "Test= pd.read_csv('/kaggle/input/ml-olympiad-co2-emissions-prediction-challenge/test.csv')\n",
    "sample_submission= pd.read_csv('/kaggle/input/ml-olympiad-co2-emissions-prediction-challenge/sample_submission.csv')"
   ]
  },
  {
   "cell_type": "code",
   "execution_count": 2,
   "id": "4878f874",
   "metadata": {
    "execution": {
     "iopub.execute_input": "2024-03-11T15:43:24.885212Z",
     "iopub.status.busy": "2024-03-11T15:43:24.884790Z",
     "iopub.status.idle": "2024-03-11T15:43:24.911475Z",
     "shell.execute_reply": "2024-03-11T15:43:24.910216Z"
    },
    "papermill": {
     "duration": 0.0349,
     "end_time": "2024-03-11T15:43:24.914961",
     "exception": false,
     "start_time": "2024-03-11T15:43:24.880061",
     "status": "completed"
    },
    "tags": []
   },
   "outputs": [],
   "source": [
    "#replace \"..\"with .100\n",
    "Train=Train.replace('..', .100)  \n",
    "Test=Test.replace('..', 0.100)  "
   ]
  },
  {
   "cell_type": "code",
   "execution_count": 3,
   "id": "355190fd",
   "metadata": {
    "execution": {
     "iopub.execute_input": "2024-03-11T15:43:24.924506Z",
     "iopub.status.busy": "2024-03-11T15:43:24.924013Z",
     "iopub.status.idle": "2024-03-11T15:43:24.937553Z",
     "shell.execute_reply": "2024-03-11T15:43:24.936132Z"
    },
    "papermill": {
     "duration": 0.022051,
     "end_time": "2024-03-11T15:43:24.940553",
     "exception": false,
     "start_time": "2024-03-11T15:43:24.918502",
     "status": "completed"
    },
    "tags": []
   },
   "outputs": [],
   "source": [
    "#Unique country for iteration\n",
    "unique = Train['Country Name'].unique()"
   ]
  },
  {
   "cell_type": "code",
   "execution_count": 4,
   "id": "003322a5",
   "metadata": {
    "execution": {
     "iopub.execute_input": "2024-03-11T15:43:24.955592Z",
     "iopub.status.busy": "2024-03-11T15:43:24.955239Z",
     "iopub.status.idle": "2024-03-11T15:43:32.942098Z",
     "shell.execute_reply": "2024-03-11T15:43:32.941051Z"
    },
    "papermill": {
     "duration": 7.998062,
     "end_time": "2024-03-11T15:43:32.944766",
     "exception": false,
     "start_time": "2024-03-11T15:43:24.946704",
     "status": "completed"
    },
    "tags": []
   },
   "outputs": [],
   "source": [
    "#trainig and inferencing with SVC and ARIMA\n",
    "import pandas as pd\n",
    "from statsmodels.tsa.arima.model import ARIMA\n",
    "import numpy as np\n",
    "from sklearn.svm import SVC\n",
    "import warnings\n",
    "\n",
    "# Ignore all warnings\n",
    "\n",
    "from sklearn.metrics import accuracy_score, classification_report, confusion_matrix\n",
    "warnings.filterwarnings(\"ignore\")\n",
    "j=0\n",
    "for i in unique:\n",
    "    transposed_df=0\n",
    "    #creating traindata\n",
    "    fg = Train[Train['Country Name'] == i].reset_index(drop=True)\n",
    "    columns_to_drop = ['Country Code', 'Country Name','Indicator']\n",
    "    fg = fg.drop(columns_to_drop, axis=1)\n",
    "    transposed_df = fg.transpose()\n",
    "    #print(fg)\n",
    "    #print('done for now')\n",
    "    Xtrain = transposed_df[[0,1, 2,3,4,5,6,7,8,9,10]]\n",
    "    Xtrain\n",
    "    Ytrain=transposed_df[11]\n",
    "    Ytrain\n",
    "    svc = SVC()\n",
    "    try:\n",
    "        svc.fit(Xtrain,Ytrain)\n",
    "        #creating testdata\n",
    "        fgt = Test[Test['Country Name'] == i].reset_index(drop=True)\n",
    "        columns_to_drop = [ 'Country Name','Indicator']\n",
    "        fgt = fgt.drop(columns_to_drop, axis=1)\n",
    "        transposed_df = fgt.transpose()\n",
    "        #print(transposed_df)\n",
    "        \n",
    "        Xtest = transposed_df[[0,1, 2,3,4,5,6,7,8,9,10]]\n",
    "        forecast = svc.predict(Xtest.astype(float))\n",
    "        \n",
    "        model = ARIMA(Ytrain.astype(float), order=(0,1,0))  # Adjust order as needed\n",
    "        model_fit = model.fit()\n",
    "\n",
    "    \n",
    "        forecast2 = model_fit.forecast(steps=16)\n",
    "        \n",
    "        row_index = sample_submission[sample_submission.eq(i).any(axis=1)].index[0]\n",
    "\n",
    "\n",
    "        new_values = [i, forecast[0], forecast[1],forecast[2], forecast[3], forecast[4],forecast2[31]]\n",
    "        sample_submission.loc[row_index] = new_values\n",
    "    except:\n",
    "        j+=1\n",
    "    \n",
    "    \n",
    "\n"
   ]
  },
  {
   "cell_type": "code",
   "execution_count": 5,
   "id": "a33811c8",
   "metadata": {
    "execution": {
     "iopub.execute_input": "2024-03-11T15:43:32.952859Z",
     "iopub.status.busy": "2024-03-11T15:43:32.952197Z",
     "iopub.status.idle": "2024-03-11T15:43:32.970454Z",
     "shell.execute_reply": "2024-03-11T15:43:32.969193Z"
    },
    "papermill": {
     "duration": 0.024792,
     "end_time": "2024-03-11T15:43:32.972828",
     "exception": false,
     "start_time": "2024-03-11T15:43:32.948036",
     "status": "completed"
    },
    "tags": []
   },
   "outputs": [
    {
     "data": {
      "text/html": [
       "<div>\n",
       "<style scoped>\n",
       "    .dataframe tbody tr th:only-of-type {\n",
       "        vertical-align: middle;\n",
       "    }\n",
       "\n",
       "    .dataframe tbody tr th {\n",
       "        vertical-align: top;\n",
       "    }\n",
       "\n",
       "    .dataframe thead th {\n",
       "        text-align: right;\n",
       "    }\n",
       "</style>\n",
       "<table border=\"1\" class=\"dataframe\">\n",
       "  <thead>\n",
       "    <tr style=\"text-align: right;\">\n",
       "      <th></th>\n",
       "      <th>Country Name</th>\n",
       "      <th>2016 [YR2016]</th>\n",
       "      <th>2017 [YR2017]</th>\n",
       "      <th>2018 [YR2018]</th>\n",
       "      <th>2019 [YR2019]</th>\n",
       "      <th>2020 [YR2020]</th>\n",
       "      <th>2030 [YR2030]</th>\n",
       "    </tr>\n",
       "  </thead>\n",
       "  <tbody>\n",
       "    <tr>\n",
       "      <th>0</th>\n",
       "      <td>Afghanistan</td>\n",
       "      <td>0.297971775</td>\n",
       "      <td>0.297971775</td>\n",
       "      <td>0.239506901</td>\n",
       "      <td>0.239506901</td>\n",
       "      <td>0.297971775</td>\n",
       "      <td>0.297972</td>\n",
       "    </tr>\n",
       "    <tr>\n",
       "      <th>1</th>\n",
       "      <td>Albania</td>\n",
       "      <td>1.665218525</td>\n",
       "      <td>1.665218525</td>\n",
       "      <td>1.665218525</td>\n",
       "      <td>1.665218525</td>\n",
       "      <td>1.665218525</td>\n",
       "      <td>1.665219</td>\n",
       "    </tr>\n",
       "    <tr>\n",
       "      <th>2</th>\n",
       "      <td>Algeria</td>\n",
       "      <td>3.951960939</td>\n",
       "      <td>3.951960939</td>\n",
       "      <td>3.951960939</td>\n",
       "      <td>3.951960939</td>\n",
       "      <td>3.951960939</td>\n",
       "      <td>3.951961</td>\n",
       "    </tr>\n",
       "    <tr>\n",
       "      <th>3</th>\n",
       "      <td>American Samoa</td>\n",
       "      <td>3.5276</td>\n",
       "      <td>3.1392</td>\n",
       "      <td>1.1129</td>\n",
       "      <td>1.6479</td>\n",
       "      <td>3.1007</td>\n",
       "      <td>0.684000</td>\n",
       "    </tr>\n",
       "    <tr>\n",
       "      <th>4</th>\n",
       "      <td>Andorra</td>\n",
       "      <td>7.206273645</td>\n",
       "      <td>7.206273645</td>\n",
       "      <td>6.805400082</td>\n",
       "      <td>7.206273645</td>\n",
       "      <td>7.286756008</td>\n",
       "      <td>6.485769</td>\n",
       "    </tr>\n",
       "  </tbody>\n",
       "</table>\n",
       "</div>"
      ],
      "text/plain": [
       "     Country Name 2016 [YR2016] 2017 [YR2017] 2018 [YR2018] 2019 [YR2019]  \\\n",
       "0     Afghanistan   0.297971775   0.297971775   0.239506901   0.239506901   \n",
       "1         Albania   1.665218525   1.665218525   1.665218525   1.665218525   \n",
       "2         Algeria   3.951960939   3.951960939   3.951960939   3.951960939   \n",
       "3  American Samoa        3.5276        3.1392        1.1129        1.6479   \n",
       "4         Andorra   7.206273645   7.206273645   6.805400082   7.206273645   \n",
       "\n",
       "  2020 [YR2020]  2030 [YR2030]  \n",
       "0   0.297971775       0.297972  \n",
       "1   1.665218525       1.665219  \n",
       "2   3.951960939       3.951961  \n",
       "3        3.1007       0.684000  \n",
       "4   7.286756008       6.485769  "
      ]
     },
     "execution_count": 5,
     "metadata": {},
     "output_type": "execute_result"
    }
   ],
   "source": [
    "sample_submission.head()"
   ]
  },
  {
   "cell_type": "code",
   "execution_count": 6,
   "id": "1a018e9c",
   "metadata": {
    "execution": {
     "iopub.execute_input": "2024-03-11T15:43:32.981104Z",
     "iopub.status.busy": "2024-03-11T15:43:32.980751Z",
     "iopub.status.idle": "2024-03-11T15:43:32.990808Z",
     "shell.execute_reply": "2024-03-11T15:43:32.989857Z"
    },
    "papermill": {
     "duration": 0.016772,
     "end_time": "2024-03-11T15:43:32.993070",
     "exception": false,
     "start_time": "2024-03-11T15:43:32.976298",
     "status": "completed"
    },
    "tags": []
   },
   "outputs": [],
   "source": [
    "sample_submission.to_csv('submission.csv', index=False)"
   ]
  }
 ],
 "metadata": {
  "kaggle": {
   "accelerator": "none",
   "dataSources": [
    {
     "databundleVersionId": 7794824,
     "sourceId": 70983,
     "sourceType": "competition"
    }
   ],
   "dockerImageVersionId": 30664,
   "isGpuEnabled": false,
   "isInternetEnabled": true,
   "language": "python",
   "sourceType": "notebook"
  },
  "kernelspec": {
   "display_name": "Python 3",
   "language": "python",
   "name": "python3"
  },
  "language_info": {
   "codemirror_mode": {
    "name": "ipython",
    "version": 3
   },
   "file_extension": ".py",
   "mimetype": "text/x-python",
   "name": "python",
   "nbconvert_exporter": "python",
   "pygments_lexer": "ipython3",
   "version": "3.10.13"
  },
  "papermill": {
   "default_parameters": {},
   "duration": 14.40681,
   "end_time": "2024-03-11T15:43:33.516343",
   "environment_variables": {},
   "exception": null,
   "input_path": "__notebook__.ipynb",
   "output_path": "__notebook__.ipynb",
   "parameters": {},
   "start_time": "2024-03-11T15:43:19.109533",
   "version": "2.5.0"
  }
 },
 "nbformat": 4,
 "nbformat_minor": 5
}
